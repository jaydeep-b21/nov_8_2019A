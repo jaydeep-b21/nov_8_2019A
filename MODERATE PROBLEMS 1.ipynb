{
 "cells": [
  {
   "cell_type": "markdown",
   "metadata": {},
   "source": [
    "# (1) Check whether the string is a palindrome."
   ]
  },
  {
   "cell_type": "markdown",
   "metadata": {},
   "source": [
    "HINT: A palindrome is a word, phrase, or sequence that reads the same backward as forwards. For example, the word- madam\n",
    "\n",
    "If you read it backward it will be madam as well. Similarly, eye, rotor, kayak, racecar, level, etc. are palindromes.\n",
    "\n",
    "To check a palindrome, just reverse the word or the phrase, and then check whether the reversed string is the same as the initial string.\n",
    "\n",
    "If both are the same, it will be a palindrome."
   ]
  },
  {
   "cell_type": "code",
   "execution_count": 2,
   "metadata": {},
   "outputs": [
    {
     "name": "stdout",
     "output_type": "stream",
     "text": [
      "String to check: neveroddoreven\n",
      "It is palindrome\n"
     ]
    }
   ],
   "source": [
    "my_str = input('String to check: ')\n",
    "rev_str = my_str[::-1]\n",
    "\n",
    "if my_str == rev_str:\n",
    "    print(\"It is palindrome\")\n",
    "else:\n",
    "    print(\"It is not palindrome\")"
   ]
  },
  {
   "cell_type": "markdown",
   "metadata": {},
   "source": [
    "# (2) With a given integral number n, write a program to calculate the sum of cubes."
   ]
  },
  {
   "cell_type": "markdown",
   "metadata": {},
   "source": [
    "HINT: Cubes mean power of 3. Hence, the cube of 9 is 9**3.\n",
    "\n",
    "Here you have to calculate the cube of a series. If you want to calculate the cube up to the number n. The series will look like-\n",
    "\n",
    "1^3+2^3+3^3+4^3+ .. .. .. +n^3\n",
    "\n",
    "If you remembered the sum of the square, this one will be easier for you."
   ]
  },
  {
   "cell_type": "code",
   "execution_count": 3,
   "metadata": {},
   "outputs": [
    {
     "name": "stdout",
     "output_type": "stream",
     "text": [
      "Enter a number: 7\n",
      "Your sum of cubes are:  784\n"
     ]
    }
   ],
   "source": [
    "def cube_sum(num):\n",
    "    sum = 0\n",
    "    for n in range(num+1):\n",
    "        sum = sum + n**3\n",
    "    return sum\n",
    "\n",
    "\n",
    "user_num = int(input('Enter a number: '))\n",
    "result = cube_sum(user_num)\n",
    "print('Your sum of cubes are: ', result)"
   ]
  },
  {
   "cell_type": "markdown",
   "metadata": {},
   "source": [
    "SHORTCUT: "
   ]
  },
  {
   "cell_type": "code",
   "execution_count": 4,
   "metadata": {},
   "outputs": [
    {
     "name": "stdout",
     "output_type": "stream",
     "text": [
      "Enter a number: 7\n",
      "Your sum of cubes are:  784.0\n"
     ]
    }
   ],
   "source": [
    "n = int(input('Enter a number: '))\n",
    "sum = (n*(n+1)/2)**2\n",
    "print('Your sum of cubes are: ', sum)"
   ]
  },
  {
   "cell_type": "markdown",
   "metadata": {},
   "source": [
    "# (3) Check whether a number is an Armstrong number."
   ]
  },
  {
   "cell_type": "markdown",
   "metadata": {},
   "source": [
    "HINT: Armstrong is a special number.\n",
    "\n",
    "A number is an Armstrong Number or narcissistic number if it is equal to the sum of its own digits raised to the power of the number of digits.\n",
    "\n",
    "Think about the number 371. The total number of digits is 3. Now, for each digit, put the power of 3 and then add them. It will be:\n",
    "\n",
    "33 + 73 + 13 \n",
    "= 27 + 343 + 1\n",
    "= 371\n",
    "Hence, 371 is an Armstrong number."
   ]
  },
  {
   "cell_type": "code",
   "execution_count": 7,
   "metadata": {},
   "outputs": [
    {
     "name": "stdout",
     "output_type": "stream",
     "text": [
      "Enter your number: 1634\n",
      "1634 is an Armstrong number\n"
     ]
    }
   ],
   "source": [
    "def check_armstrong(num):\n",
    "    order = len(str(num))\n",
    "    \n",
    "    sum = 0\n",
    "    # use temp to find each digit. Then power it\n",
    "    temp = num\n",
    "    while temp > 0:\n",
    "        digit = temp % 10\n",
    "        sum += digit ** order\n",
    "        temp //= 10\n",
    "    return num == sum\n",
    " \n",
    "num = int(input('Enter your number: '))\n",
    " \n",
    "if check_armstrong(num):\n",
    "    print(num,\"is an Armstrong number\")\n",
    "else:\n",
    "    print(num,\"is not an Armstrong number\")"
   ]
  },
  {
   "cell_type": "markdown",
   "metadata": {},
   "source": [
    "# (4) Calculate the greatest common divisor (gcd) of two numbers."
   ]
  },
  {
   "cell_type": "markdown",
   "metadata": {},
   "source": [
    "HINT: In mathematics, the greatest common divisor (gcd) of two or more integers is the largest positive integer that divides each of the integers.\n",
    "\n",
    "For example, the gcd of 8 and 12 is 4. Because 4 is the largest number that divides both 8 and 12.\n",
    "\n",
    "Similarly, 15 is the gcd of 15 and 45. Because 15 divides both 15 and 45."
   ]
  },
  {
   "cell_type": "code",
   "execution_count": 11,
   "metadata": {},
   "outputs": [
    {
     "name": "stdout",
     "output_type": "stream",
     "text": [
      "Enter first number: 56\n",
      "Enter second number: 72\n",
      "GCD of 56 and 72 is 8\n"
     ]
    }
   ],
   "source": [
    "def compute_gcd(x, y):\n",
    "    smaller = min(x,y)\n",
    "    gcd = 1\n",
    "    for i in range(1, smaller+1):\n",
    "        if((x % i == 0) and (y % i == 0)):\n",
    "            gcd = i\n",
    "    return gcd\n",
    "\n",
    "num1 = int(input(\"Enter first number: \"))\n",
    "num2 = int(input(\"Enter second number: \"))\n",
    "\n",
    "gcd = compute_gcd(num1, num2)\n",
    "\n",
    "print(\"GCD of\", num1,\"and\", num2,\"is\", gcd)"
   ]
  },
  {
   "cell_type": "markdown",
   "metadata": {},
   "source": [
    "# Recursive GCD"
   ]
  },
  {
   "cell_type": "code",
   "execution_count": 12,
   "metadata": {},
   "outputs": [
    {
     "name": "stdout",
     "output_type": "stream",
     "text": [
      "Enter first number:58\n",
      "Enter second number:80\n",
      "GCD is:  2\n"
     ]
    }
   ],
   "source": [
    "def gcd(a,b):\n",
    "    if(b==0):\n",
    "        return a\n",
    "    else:\n",
    "        return gcd(b,a%b)\n",
    "a=int(input(\"Enter first number:\"))\n",
    "b=int(input(\"Enter second number:\"))\n",
    "GCD=gcd(a,b)\n",
    "print(\"GCD is: \", GCD)"
   ]
  },
  {
   "cell_type": "markdown",
   "metadata": {},
   "source": [
    "# built-in GCD"
   ]
  },
  {
   "cell_type": "code",
   "execution_count": 13,
   "metadata": {},
   "outputs": [
    {
     "name": "stdout",
     "output_type": "stream",
     "text": [
      "Enter first number:60\n",
      "Enter second number:82\n",
      "2\n"
     ]
    }
   ],
   "source": [
    "import math\n",
    "\n",
    "a = int(input(\"Enter first number:\"))\n",
    "b = int(input(\"Enter second number:\"))\n",
    "\n",
    "gcd = math.gcd(a,b)\n",
    "print(gcd)"
   ]
  },
  {
   "cell_type": "markdown",
   "metadata": {},
   "source": [
    "# (5) For two numbers, calculate the least common multiple (LCM)."
   ]
  },
  {
   "cell_type": "markdown",
   "metadata": {},
   "source": [
    "HINT : The multiples of 4 and 5 are below:\n",
    "\n",
    "Multiple of 4: 4, 8, 12, 16, 20 , 24 28 ,32, 36, 40, 44 Multiple of 5: 5, 10, 15, 20, 25, 30, 35, 40, 45, 50, 55\n",
    "\n",
    "Now, what are the common multiples? The common number that exists in multiple of 4 and 5 are:\n",
    "\n",
    "Common multiples: 20, 40, 60, 80\n",
    "\n",
    "So, you can tell the smallest common multiple is 20. Hence, the least common multiple(LCM) of 4 and 5 is 20."
   ]
  },
  {
   "cell_type": "code",
   "execution_count": 14,
   "metadata": {},
   "outputs": [
    {
     "name": "stdout",
     "output_type": "stream",
     "text": [
      "First number: 45\n",
      "Second number: 36\n",
      "LCM of 45 and 36 is: 180\n"
     ]
    }
   ],
   "source": [
    "def calculate_lcm(x, y):\n",
    "    lcm = max(x,y)\n",
    "    while lcm % x != 0 or lcm % y != 0:\n",
    "        lcm += 1\n",
    "    return lcm\n",
    " \n",
    "num1 = int(input(\"First number: \"))\n",
    "num2 = int(input(\"Second number: \"))\n",
    "lcm = calculate_lcm(num1, num2)\n",
    " \n",
    "print(f\"LCM of {num1} and {num2} is: {lcm}\")"
   ]
  },
  {
   "cell_type": "code",
   "execution_count": null,
   "metadata": {},
   "outputs": [],
   "source": []
  }
 ],
 "metadata": {
  "kernelspec": {
   "display_name": "Python 3",
   "language": "python",
   "name": "python3"
  },
  "language_info": {
   "codemirror_mode": {
    "name": "ipython",
    "version": 3
   },
   "file_extension": ".py",
   "mimetype": "text/x-python",
   "name": "python",
   "nbconvert_exporter": "python",
   "pygments_lexer": "ipython3",
   "version": "3.7.3"
  }
 },
 "nbformat": 4,
 "nbformat_minor": 2
}
